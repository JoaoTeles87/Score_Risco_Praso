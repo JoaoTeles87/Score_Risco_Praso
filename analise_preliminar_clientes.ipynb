{
 "cells": [
  {
   "cell_type": "markdown",
   "id": "058bfa0e",
   "metadata": {},
   "source": [
    "# Score de Risco \n",
    "\n",
    "### Criado por João Teles e Rodrigo Sales para discutir os resultados analíticos de como certo modelos de Machine Learning podem se comportar nos dados fonecidos pela empresa Praso."
   ]
  },
  {
   "cell_type": "markdown",
   "id": "8cc07728",
   "metadata": {},
   "source": [
    "#### Importação de frameworks para análise preliminar dos dados."
   ]
  },
  {
   "cell_type": "code",
   "execution_count": 2,
   "id": "0e48b5f0",
   "metadata": {},
   "outputs": [],
   "source": [
    "\n",
    "import pandas as pd\n"
   ]
  },
  {
   "cell_type": "markdown",
   "id": "45d635e3",
   "metadata": {},
   "source": [
    "##### Primeiras impressões com tipo de dados, checar os valores nulos e aplicar estatística padrão"
   ]
  },
  {
   "cell_type": "code",
   "execution_count": 3,
   "id": "6828dbe2",
   "metadata": {},
   "outputs": [
    {
     "name": "stdout",
     "output_type": "stream",
     "text": [
      "(12458, 20)\n",
      "   uf    municipio        segmento_cliente                natureza_juridica  \\\n",
      "0  PE       RECIFE  Restaurante Brasileiro  213-5 - Empresário (Individual)   \n",
      "1  PE   CHA GRANDE          Pizza & Massas  213-5 - Empresário (Individual)   \n",
      "2  PB  JOAO PESSOA     Doces & Confeitaria  213-5 - Empresário (Individual)   \n",
      "3  CE     CASCAVEL      Lanches & Salgados  213-5 - Empresário (Individual)   \n",
      "4  PE       RECIFE     Mercearia & Mercado  213-5 - Empresário (Individual)   \n",
      "\n",
      "  fonte_cliente cnae_codigo  \\\n",
      "0       Fonte 5  56.11-2-01   \n",
      "1       Fonte 2  56.11-2-01   \n",
      "2       Fonte 2  10.93-7-01   \n",
      "3       Fonte 2  56.20-1-04   \n",
      "4       Fonte 2  56.11-2-03   \n",
      "\n",
      "                                      cnae_descricao capital_social  \\\n",
      "0                           Restaurantes e similares  (8000, 10000]   \n",
      "1                           Restaurantes e similares   (3000, 5000]   \n",
      "2  Fabricação de produtos derivados do cacau e de...    (200, 1000]   \n",
      "3  Fornecimento de alimentos preparados preponder...   (1000, 1500]   \n",
      "4    Lanchonetes, casas de chá, de sucos e similares    (200, 1000]   \n",
      "\n",
      "     idade_cnpj  serasa_contagem_negativacoes  serasa_contagem_protestos  \\\n",
      "0     (50, 100]                             0                          0   \n",
      "1    (750, 900]                             0                          0   \n",
      "2    (150, 250]                             0                          0   \n",
      "3    (100, 150]                             0                          0   \n",
      "4  (1600, 2000]                             1                          0   \n",
      "\n",
      "   serasa_idade_divida_mais_recente      serasa_credores  \\\n",
      "0                               NaN                  NaN   \n",
      "1                               NaN                  NaN   \n",
      "2                               NaN                  NaN   \n",
      "3                               NaN                  NaN   \n",
      "4                              47.0  Bancos e Financeiro   \n",
      "\n",
      "   serasa_socio_tem_negativacao ifood_contagem_avaliacoes ifood_faixa_preco  \\\n",
      "0                             0                       NaN               NaN   \n",
      "1                             1                       NaN               NaN   \n",
      "2                             1                       NaN               NaN   \n",
      "3                             0                       NaN               NaN   \n",
      "4                             0                       NaN               NaN   \n",
      "\n",
      "  google_maps_avaliacao google_maps_contagem_avaliacoes  \\\n",
      "0                   NaN                             NaN   \n",
      "1                   NaN                             NaN   \n",
      "2                   NaN                             NaN   \n",
      "3                   NaN                             NaN   \n",
      "4                   NaN                             NaN   \n",
      "\n",
      "   google_maps_tem_website  inadimplente  \n",
      "0                      NaN             1  \n",
      "1                      NaN             1  \n",
      "2                      NaN             0  \n",
      "3                      NaN             1  \n",
      "4                      NaN             0  \n"
     ]
    }
   ],
   "source": [
    "dados_clientes = pd.read_csv('amostra_praso.csv', sep=',')\n",
    "\n",
    "# Exibe a quantidade de linhas e colunas do DataFrame\n",
    "print(dados_clientes.shape)\n",
    "\n",
    "# Exibe as primeiras linhas do DataFrame\n",
    "print(dados_clientes.head())\n"
   ]
  },
  {
   "cell_type": "code",
   "execution_count": 4,
   "id": "3a5075d9",
   "metadata": {},
   "outputs": [
    {
     "name": "stdout",
     "output_type": "stream",
     "text": [
      "<class 'pandas.core.frame.DataFrame'>\n",
      "RangeIndex: 12458 entries, 0 to 12457\n",
      "Data columns (total 20 columns):\n",
      " #   Column                            Non-Null Count  Dtype  \n",
      "---  ------                            --------------  -----  \n",
      " 0   uf                                12458 non-null  object \n",
      " 1   municipio                         12458 non-null  object \n",
      " 2   segmento_cliente                  12458 non-null  object \n",
      " 3   natureza_juridica                 12458 non-null  object \n",
      " 4   fonte_cliente                     12458 non-null  object \n",
      " 5   cnae_codigo                       12458 non-null  object \n",
      " 6   cnae_descricao                    12458 non-null  object \n",
      " 7   capital_social                    12458 non-null  object \n",
      " 8   idade_cnpj                        12458 non-null  object \n",
      " 9   serasa_contagem_negativacoes      12458 non-null  int64  \n",
      " 10  serasa_contagem_protestos         12458 non-null  int64  \n",
      " 11  serasa_idade_divida_mais_recente  2356 non-null   float64\n",
      " 12  serasa_credores                   1975 non-null   object \n",
      " 13  serasa_socio_tem_negativacao      12458 non-null  int64  \n",
      " 14  ifood_contagem_avaliacoes         480 non-null    object \n",
      " 15  ifood_faixa_preco                 854 non-null    object \n",
      " 16  google_maps_avaliacao             865 non-null    object \n",
      " 17  google_maps_contagem_avaliacoes   1038 non-null   object \n",
      " 18  google_maps_tem_website           1038 non-null   float64\n",
      " 19  inadimplente                      12458 non-null  int64  \n",
      "dtypes: float64(2), int64(4), object(14)\n",
      "memory usage: 1.9+ MB\n"
     ]
    },
    {
     "data": {
      "text/plain": [
       "uf                                      0\n",
       "municipio                               0\n",
       "segmento_cliente                        0\n",
       "natureza_juridica                       0\n",
       "fonte_cliente                           0\n",
       "cnae_codigo                             0\n",
       "cnae_descricao                          0\n",
       "capital_social                          0\n",
       "idade_cnpj                              0\n",
       "serasa_contagem_negativacoes            0\n",
       "serasa_contagem_protestos               0\n",
       "serasa_idade_divida_mais_recente    10102\n",
       "serasa_credores                     10483\n",
       "serasa_socio_tem_negativacao            0\n",
       "ifood_contagem_avaliacoes           11978\n",
       "ifood_faixa_preco                   11604\n",
       "google_maps_avaliacao               11593\n",
       "google_maps_contagem_avaliacoes     11420\n",
       "google_maps_tem_website             11420\n",
       "inadimplente                            0\n",
       "dtype: int64"
      ]
     },
     "execution_count": 4,
     "metadata": {},
     "output_type": "execute_result"
    }
   ],
   "source": [
    "# Informações gerais\n",
    "dados_clientes.info()\n",
    "\n",
    "# Estatísticas descritivas\n",
    "dados_clientes.describe()\n",
    "\n",
    "# Verificando valores nulos\n",
    "dados_clientes.isnull().sum()\n"
   ]
  },
  {
   "cell_type": "markdown",
   "id": "b08b6d67",
   "metadata": {},
   "source": [
    "##### Corrigir tipo de dados de capital_social e idade_cnpj para numérico."
   ]
  },
  {
   "cell_type": "code",
   "execution_count": 5,
   "id": "7d5465fa",
   "metadata": {},
   "outputs": [
    {
     "name": "stdout",
     "output_type": "stream",
     "text": [
      "uf                                   object\n",
      "municipio                            object\n",
      "segmento_cliente                     object\n",
      "natureza_juridica                    object\n",
      "fonte_cliente                        object\n",
      "cnae_codigo                          object\n",
      "cnae_descricao                       object\n",
      "capital_social                      float64\n",
      "idade_cnpj                          float64\n",
      "serasa_contagem_negativacoes          int64\n",
      "serasa_contagem_protestos             int64\n",
      "serasa_idade_divida_mais_recente    float64\n",
      "serasa_credores                      object\n",
      "serasa_socio_tem_negativacao          int64\n",
      "ifood_contagem_avaliacoes            object\n",
      "ifood_faixa_preco                    object\n",
      "google_maps_avaliacao                object\n",
      "google_maps_contagem_avaliacoes      object\n",
      "google_maps_tem_website             float64\n",
      "inadimplente                          int64\n",
      "dtype: object\n"
     ]
    }
   ],
   "source": [
    "# Garantir que a coluna é string antes de substituir caracteres\n",
    "dados_clientes[\"capital_social\"] = dados_clientes[\"capital_social\"].astype(str).str.replace(r\"\\D\", \"\", regex=True).astype(float)\n",
    "dados_clientes[\"idade_cnpj\"] = dados_clientes[\"idade_cnpj\"].astype(str).str.replace(r\"\\D\", \"\", regex=True).astype(float)\n",
    "\n",
    "print(dados_clientes.dtypes)  # Verifique os tipos de dados das colunas\n",
    "\n"
   ]
  },
  {
   "cell_type": "markdown",
   "id": "21cd9a62",
   "metadata": {},
   "source": []
  },
  {
   "cell_type": "markdown",
   "id": "801f02bc",
   "metadata": {},
   "source": [
    "##### Como pode-se resolver o problema de dados nulos em diversas colunas?\n",
    "##### Média/Mediana, caso os valores sejam distribuídos normalmente.\n",
    "##### Zero, se fizer sentido como um dado ausente real."
   ]
  },
  {
   "cell_type": "code",
   "execution_count": 7,
   "id": "0d0a64b9",
   "metadata": {},
   "outputs": [
    {
     "name": "stdout",
     "output_type": "stream",
     "text": [
      "Requirement already satisfied: pandas in c:\\users\\professor\\appdata\\local\\programs\\python\\python313\\lib\\site-packages (2.2.3)\n",
      "Requirement already satisfied: numpy>=1.26.0 in c:\\users\\professor\\appdata\\local\\programs\\python\\python313\\lib\\site-packages (from pandas) (2.2.2)\n",
      "Requirement already satisfied: python-dateutil>=2.8.2 in c:\\users\\professor\\appdata\\local\\programs\\python\\python313\\lib\\site-packages (from pandas) (2.9.0.post0)\n",
      "Requirement already satisfied: pytz>=2020.1 in c:\\users\\professor\\appdata\\local\\programs\\python\\python313\\lib\\site-packages (from pandas) (2025.1)\n",
      "Requirement already satisfied: tzdata>=2022.7 in c:\\users\\professor\\appdata\\local\\programs\\python\\python313\\lib\\site-packages (from pandas) (2025.1)\n",
      "Requirement already satisfied: six>=1.5 in c:\\users\\professor\\appdata\\local\\programs\\python\\python313\\lib\\site-packages (from python-dateutil>=2.8.2->pandas) (1.17.0)\n",
      "Note: you may need to restart the kernel to use updated packages.\n",
      "Requirement already satisfied: numpy in c:\\users\\professor\\appdata\\local\\programs\\python\\python313\\lib\\site-packages (2.2.2)\n",
      "Note: you may need to restart the kernel to use updated packages.\n"
     ]
    }
   ],
   "source": [
    "%pip install pandas\n",
    "%pip install numpy"
   ]
  },
  {
   "cell_type": "code",
   "execution_count": null,
   "id": "3f8df34f",
   "metadata": {},
   "outputs": [
    {
     "name": "stdout",
     "output_type": "stream",
     "text": [
      "Quantidade de valores não nulos após conversão: 0\n",
      "[nan]\n"
     ]
    }
   ],
   "source": [
    "import numpy as np\n",
    "\n",
    "# Suponha que os dados estejam carregados em dados_clientes\n",
    "coluna_serasa = \"serasa_idade_divida_mais_recente\"\n",
    "coluna_google_maps = \"google_maps_contagem_avaliacoes\"\n",
    "\n",
    "# Função para converter intervalos para a média\n",
    "def converter_intervalo(valor):\n",
    "    if isinstance(valor, str) and \"[\" in valor and \"]\" in valor:\n",
    "        numeros = [int(x) for x in valor.strip(\"[]\").split(\",\")]\n",
    "        return np.mean(numeros)\n",
    "    return valor  # Mantém o valor original se não for intervalo\n",
    "\n",
    "# Aplicando a conversão na coluna 'serasa_idade_divida_mais_recente'\n",
    "dados_clientes[coluna_serasa] = dados_clientes[coluna_serasa].apply(converter_intervalo)\n",
    "\n",
    "# Preenchendo valores nulos com a mediana dos valores já convertidos para ambas as colunas\n",
    "dados_clientes[coluna_serasa] = dados_clientes[coluna_serasa].fillna(dados_clientes[coluna_serasa].median())\n",
    "\n",
    "\n",
    "\n",
    "\n"
   ]
  },
  {
   "cell_type": "markdown",
   "id": "70759dd1",
   "metadata": {},
   "source": [
    "##### Para Variáveis Categóricas\n",
    "##### Podemos preencher valores nulos com \"Não Informado\"."
   ]
  },
  {
   "cell_type": "code",
   "execution_count": 19,
   "id": "bb51abee",
   "metadata": {},
   "outputs": [],
   "source": [
    "dados_clientes[\"ifood_faixa_preco\"] = dados_clientes[\"ifood_faixa_preco\"].fillna(\"Não Informado\")\n",
    "dados_clientes[\"google_maps_avaliacao\"] = dados_clientes[\"google_maps_avaliacao\"].fillna(0)\n",
    "dados_clientes[\"google_maps_tem_website\"] = dados_clientes[\"google_maps_tem_website\"].fillna(0)\n"
   ]
  },
  {
   "cell_type": "markdown",
   "id": "407ab0fb",
   "metadata": {},
   "source": [
    "##### Criar Indicadores de Nulos \n",
    "##### Criar uma feature binária para indicar ausência de informações."
   ]
  },
  {
   "cell_type": "code",
   "execution_count": 20,
   "id": "690c594f",
   "metadata": {},
   "outputs": [],
   "source": [
    "dados_clientes[\"tem_divida\"] = dados_clientes[\"serasa_idade_divida_mais_recente\"].notnull().astype(int)\n",
    "dados_clientes[\"tem_ifood_avaliacoes\"] = dados_clientes[\"ifood_contagem_avaliacoes\"].notnull().astype(int)\n"
   ]
  },
  {
   "cell_type": "markdown",
   "id": "0456eba9",
   "metadata": {},
   "source": [
    "#### flag se cliente deve (true) ou não deve (false)"
   ]
  },
  {
   "cell_type": "code",
   "execution_count": 21,
   "id": "30d09d4f",
   "metadata": {},
   "outputs": [],
   "source": [
    "dados_clientes[\"possui_divida\"] = dados_clientes[\"serasa_idade_divida_mais_recente\"].notna().astype(int)"
   ]
  },
  {
   "cell_type": "markdown",
   "id": "6b12311e",
   "metadata": {},
   "source": [
    "### Feature engineering\n",
    "\n",
    "##### Agrupar o CNAE como sugerido, ..."
   ]
  },
  {
   "cell_type": "code",
   "execution_count": 22,
   "id": "f6cb5291",
   "metadata": {},
   "outputs": [],
   "source": [
    "dados_clientes[\"cnae_divisao\"] = dados_clientes[\"cnae_codigo\"].astype(str).str[:2]\n"
   ]
  },
  {
   "cell_type": "markdown",
   "id": "98933003",
   "metadata": {},
   "source": [
    "### Label Enconding para as variáveis com poucas categorias"
   ]
  },
  {
   "cell_type": "code",
   "execution_count": 60,
   "id": "4fe74dd4",
   "metadata": {},
   "outputs": [],
   "source": [
    "from sklearn.preprocessing import LabelEncoder\n",
    "\n",
    "# Lista de colunas categóricas que realmente precisam de Label Encoding\n",
    "colunas_label = [\"municipio\", \"segmento_cliente\", \"fonte_cliente\"]\n",
    "\n",
    "# Aplicando Label Encoding\n",
    "le = LabelEncoder()\n",
    "for col in colunas_label:\n",
    "    dados_clientes[col] = le.fit_transform(dados_clientes[col])\n"
   ]
  },
  {
   "cell_type": "markdown",
   "id": "20d68667",
   "metadata": {},
   "source": [
    "#### One Hot Enconding para colunas com muitas categorias"
   ]
  },
  {
   "cell_type": "code",
   "execution_count": null,
   "id": "f94e4782",
   "metadata": {},
   "outputs": [],
   "source": [
    "dados_clientes = pd.get_dummies(dados_clientes, columns=[\"cnae_divisao\"], drop_first=True)"
   ]
  },
  {
   "cell_type": "markdown",
   "id": "4f06ed75",
   "metadata": {},
   "source": [
    "### Histograma de vizualização de variaveis"
   ]
  },
  {
   "cell_type": "code",
   "execution_count": null,
   "id": "92e20d3b",
   "metadata": {},
   "outputs": [],
   "source": [
    "%pip install matplotlib\n",
    "%pip install seaborn"
   ]
  },
  {
   "cell_type": "code",
   "execution_count": null,
   "id": "8d698a0e",
   "metadata": {},
   "outputs": [],
   "source": [
    "import matplotlib.pyplot as plt\n",
    "import seaborn as sns\n",
    "\n",
    "# Lista de variáveis numéricas para visualizar\n",
    "variaveis_numericas = [\"serasa_idade_divida_mais_recente\"]  # Adicione outras aqui\n",
    "\n",
    "for var in variaveis_numericas:\n",
    "    plt.figure(figsize=(8, 4))\n",
    "    sns.histplot(dados_clientes[var], bins=30, kde=True)\n",
    "    plt.title(f\"Distribuição da variável {var}\")\n",
    "    plt.xlabel(var)\n",
    "    plt.ylabel(\"Frequência\")\n",
    "    plt.show()\n"
   ]
  },
  {
   "cell_type": "markdown",
   "id": "eb00a6c9",
   "metadata": {},
   "source": [
    "### Boxplot para detectar outliers"
   ]
  },
  {
   "cell_type": "code",
   "execution_count": null,
   "id": "8b68eccd",
   "metadata": {},
   "outputs": [],
   "source": [
    "for var in variaveis_numericas:\n",
    "    plt.figure(figsize=(6, 4))\n",
    "    sns.boxplot(x=dados_clientes[var])\n",
    "    plt.title(f\"Boxplot da variável {var}\")\n",
    "    plt.xlabel(var)\n",
    "    plt.show()"
   ]
  },
  {
   "cell_type": "markdown",
   "id": "3ab108b6",
   "metadata": {},
   "source": [
    "### Correlação entre variáveis e inadimplência\n"
   ]
  },
  {
   "cell_type": "code",
   "execution_count": null,
   "id": "d685bcb1",
   "metadata": {},
   "outputs": [],
   "source": [
    "# Selecionar apenas colunas numéricas\n",
    "dados_numericos = dados_clientes.select_dtypes(include=['float64', 'int64'])\n",
    "\n",
    "# Criar matriz de correlação\n",
    "correlacao = dados_numericos.corr()\n",
    "\n",
    "# Plotar heatmap da correlação\n",
    "plt.figure(figsize=(10, 6))\n",
    "sns.heatmap(correlacao, annot=True, cmap=\"coolwarm\", fmt=\".2f\")\n",
    "plt.title(\"Matriz de Correlação\")\n",
    "plt.show()"
   ]
  },
  {
   "cell_type": "markdown",
   "id": "6c87234c",
   "metadata": {},
   "source": [
    "### Definição de Modelos para Teste\n",
    "\n",
    "#### Dividir os dados em treino e teste"
   ]
  },
  {
   "cell_type": "code",
   "execution_count": 61,
   "id": "035c40ae",
   "metadata": {},
   "outputs": [
    {
     "name": "stdout",
     "output_type": "stream",
     "text": [
      "Tamanho de X_train: (8720, 78)\n",
      "Tamanho de X_test: (3738, 78)\n",
      "Tamanho de y_train: (8720,)\n",
      "Tamanho de y_test: (3738,)\n",
      "\n",
      "📌 Amostras de X_train:\n",
      "      uf  municipio  segmento_cliente  natureza_juridica  fonte_cliente  \\\n",
      "8188   3         83                14                  5              0   \n",
      "4084   1         61                15                  5              1   \n",
      "5703   1         61                 9                  5              0   \n",
      "5339   2         89                 2                  3              3   \n",
      "181    1         61                 9                  5              2   \n",
      "\n",
      "     cnae_codigo                                     cnae_descricao  \\\n",
      "8188  56.11-2-03    Lanchonetes, casas de chá, de sucos e similares   \n",
      "4084  47.24-5-00         Comércio varejista de hortifrutigranjeiros   \n",
      "5703  56.20-1-04  Fornecimento de alimentos preparados preponder...   \n",
      "5339  56.11-2-01                           Restaurantes e similares   \n",
      "181   56.12-1-00                 Serviços ambulantes de alimentação   \n",
      "\n",
      "      capital_social  idade_cnpj  serasa_contagem_negativacoes  ...  \\\n",
      "8188    3.000050e+09  16002000.0                             1  ...   \n",
      "4084    1.000015e+09        25.0                             0  ...   \n",
      "5703    1.200000e+03    100150.0                             0  ...   \n",
      "5339    1.000002e+11    450600.0                             0  ...   \n",
      "181     3.000500e+07    150250.0                             0  ...   \n",
      "\n",
      "      cnae_divisao_81  cnae_divisao_82 cnae_divisao_85  cnae_divisao_86  \\\n",
      "8188            False            False           False            False   \n",
      "4084            False            False           False            False   \n",
      "5703            False            False           False            False   \n",
      "5339            False            False           False            False   \n",
      "181             False            False           False            False   \n",
      "\n",
      "     cnae_divisao_87 cnae_divisao_90 cnae_divisao_93  cnae_divisao_95  \\\n",
      "8188           False           False           False            False   \n",
      "4084           False           False           False            False   \n",
      "5703           False           False           False            False   \n",
      "5339           False           False           False            False   \n",
      "181            False           False           False            False   \n",
      "\n",
      "      cnae_divisao_96  cnae_divisao_97  \n",
      "8188            False            False  \n",
      "4084            False            False  \n",
      "5703            False            False  \n",
      "5339            False            False  \n",
      "181             False            False  \n",
      "\n",
      "[5 rows x 78 columns]\n",
      "\n",
      "📌 Amostras de y_train:\n",
      "8188    1\n",
      "4084    1\n",
      "5703    1\n",
      "5339    0\n",
      "181     1\n",
      "Name: inadimplente, dtype: int64\n"
     ]
    }
   ],
   "source": [
    "from sklearn.model_selection import train_test_split\n",
    "\n",
    "# Definindo X como as features e y como a variável target (inadimplência)\n",
    "X = dados_clientes.drop(columns=['inadimplente'])\n",
    "y = dados_clientes['inadimplente']\n",
    "\n",
    "# Dividindo os dados em treino e teste\n",
    "X_train, X_test, y_train, y_test = train_test_split(X, y, test_size=0.3, random_state=42)\n",
    "\n",
    "# Exibindo as dimensões dos conjuntos de treino e teste\n",
    "print(f\"Tamanho de X_train: {X_train.shape}\")\n",
    "print(f\"Tamanho de X_test: {X_test.shape}\")\n",
    "print(f\"Tamanho de y_train: {y_train.shape}\")\n",
    "print(f\"Tamanho de y_test: {y_test.shape}\")\n",
    "\n",
    "# Exibir algumas amostras dos conjuntos\n",
    "print(\"\\n📌 Amostras de X_train:\")\n",
    "print(X_train.head())\n",
    "\n",
    "print(\"\\n📌 Amostras de y_train:\")\n",
    "print(y_train.head())\n"
   ]
  },
  {
   "cell_type": "markdown",
   "id": "afe395b6",
   "metadata": {},
   "source": [
    "### cross_val_score para garantir estabilidade dos resultados."
   ]
  },
  {
   "cell_type": "code",
   "execution_count": 85,
   "id": "57830d57",
   "metadata": {},
   "outputs": [
    {
     "name": "stdout",
     "output_type": "stream",
     "text": [
      "Acurácia média: 0.6655\n",
      "Desvio padrão da acurácia: 0.0106\n"
     ]
    }
   ],
   "source": [
    "from sklearn.model_selection import cross_val_score\n",
    "from sklearn.linear_model import LogisticRegression\n",
    "from sklearn.preprocessing import StandardScaler\n",
    "import numpy as np\n",
    "\n",
    "# Selecionando apenas as colunas numéricas\n",
    "X_numeric = X.select_dtypes(include=[np.number])\n",
    "\n",
    "# Ignorando as colunas com valores ausentes\n",
    "X_numeric_no_nan = X_numeric.dropna(axis=1)  # Remove colunas com NaN\n",
    "\n",
    "# Normalizando os dados\n",
    "scaler = StandardScaler()\n",
    "X_numeric_scaled = scaler.fit_transform(X_numeric_no_nan)\n",
    "\n",
    "# Inicializando o modelo\n",
    "model = LogisticRegression(max_iter=1000)\n",
    "\n",
    "# Realizando a validação cruzada\n",
    "scores = cross_val_score(model, X_numeric_scaled, y, cv=5, scoring='accuracy', error_score='raise')\n",
    "\n",
    "# Exibindo os resultados\n",
    "print(f\"Acurácia média: {np.mean(scores):.4f}\")\n",
    "print(f\"Desvio padrão da acurácia: {np.std(scores):.4f}\")\n"
   ]
  },
  {
   "cell_type": "markdown",
   "id": "a3cd0948",
   "metadata": {},
   "source": [
    "#### Métrica de avaliação"
   ]
  },
  {
   "cell_type": "markdown",
   "id": "ee3df842",
   "metadata": {},
   "source": [
    "### métrica ROC-AUC"
   ]
  },
  {
   "cell_type": "code",
   "execution_count": null,
   "id": "c2a59420",
   "metadata": {},
   "outputs": [],
   "source": [
    "from sklearn.metrics import roc_auc_score, roc_curve\n",
    "import matplotlib.pyplot as plt\n",
    "\n",
    "# Ajustando o modelo com todos os dados\n",
    "model.fit(X_numeric_scaled, y)\n",
    "\n",
    "# Predizendo as probabilidades de pertencimento à classe positiva (inadimplente)\n",
    "y_prob = model.predict_proba(X_numeric_scaled)[:, 1]\n",
    "\n",
    "# Calculando o ROC-AUC\n",
    "roc_auc = roc_auc_score(y, y_prob)\n",
    "print(f\"ROC-AUC: {roc_auc:.4f}\")\n",
    "\n",
    "# Gerando a Curva ROC\n",
    "fpr, tpr, thresholds = roc_curve(y, y_prob)\n",
    "\n",
    "# Plotando a Curva ROC\n",
    "plt.figure(figsize=(8, 6))\n",
    "plt.plot(fpr, tpr, color='b', label=f'Curva ROC (AUC = {roc_auc:.4f})')\n",
    "plt.plot([0, 1], [0, 1], color='gray', linestyle='--')  # Linha diagonal\n",
    "plt.xlabel('Taxa de Falsos Positivos (FPR)')\n",
    "plt.ylabel('Taxa de Verdadeiros Positivos (TPR)')\n",
    "plt.title('Curva ROC')\n",
    "plt.legend(loc='lower right')\n",
    "plt.show()\n"
   ]
  },
  {
   "cell_type": "markdown",
   "id": "a9a58928",
   "metadata": {},
   "source": [
    "### Analisar a Importância das Features no Modelo"
   ]
  },
  {
   "cell_type": "code",
   "execution_count": null,
   "id": "c13bca1d",
   "metadata": {},
   "outputs": [],
   "source": [
    "# Acessando os coeficientes do modelo\n",
    "coef = model.coef_[0]\n",
    "\n",
    "# Criando um DataFrame com as features e seus coeficientes\n",
    "feature_importance = pd.DataFrame({\n",
    "    'Feature': X_numeric_no_nan.columns,\n",
    "    'Coeficiente': coef,\n",
    "    'Importância': np.abs(coef)\n",
    "})\n",
    "\n",
    "# Ordenando por importância\n",
    "feature_importance = feature_importance.sort_values(by='Importância', ascending=False)\n",
    "\n",
    "# Exibindo as principais features\n",
    "print(\"Importância das features:\")\n",
    "print(feature_importance)\n"
   ]
  },
  {
   "cell_type": "markdown",
   "id": "c0135438",
   "metadata": {},
   "source": [
    "### busca por hiperparâmetros"
   ]
  },
  {
   "cell_type": "code",
   "execution_count": 86,
   "id": "bf66c7c8",
   "metadata": {},
   "outputs": [
    {
     "name": "stdout",
     "output_type": "stream",
     "text": [
      "Melhores parâmetros: {'C': 100, 'max_iter': 100}\n"
     ]
    }
   ],
   "source": [
    "from sklearn.model_selection import GridSearchCV\n",
    "\n",
    "# Definindo os parâmetros para a busca\n",
    "param_grid = {\n",
    "    'C': [0.001, 0.01, 0.1, 1, 10, 100],\n",
    "    'max_iter': [100, 200, 500]\n",
    "}\n",
    "\n",
    "# Instanciando o modelo\n",
    "model = LogisticRegression()\n",
    "\n",
    "# Realizando a busca em grade\n",
    "grid_search = GridSearchCV(model, param_grid, cv=5, scoring='accuracy')\n",
    "grid_search.fit(X_numeric_scaled, y)\n",
    "\n",
    "# Exibindo o melhor conjunto de parâmetros\n",
    "print(f\"Melhores parâmetros: {grid_search.best_params_}\")\n"
   ]
  },
  {
   "cell_type": "markdown",
   "id": "cb742345",
   "metadata": {},
   "source": [
    "Testando"
   ]
  },
  {
   "cell_type": "code",
   "execution_count": 109,
   "id": "6929648f",
   "metadata": {},
   "outputs": [
    {
     "name": "stdout",
     "output_type": "stream",
     "text": [
      "Acurácia no conjunto de treino: 0.6707\n",
      "ROC-AUC: 0.7214\n"
     ]
    },
    {
     "data": {
      "image/png": "[encoded data removed]",
      "text/plain": [
       "<Figure size 800x600 with 1 Axes>"
      ]
     },
     "metadata": {},
     "output_type": "display_data"
    }
   ],
   "source": [
    "# Reinstanciando o modelo com os melhores parâmetros\n",
    "model = LogisticRegression(C=100, max_iter=100)\n",
    "\n",
    "# Treinando o modelo com os dados\n",
    "model.fit(X_numeric_scaled, y)\n",
    "\n",
    "# Calculando a acurácia no conjunto de treino\n",
    "train_accuracy = model.score(X_numeric_scaled, y)\n",
    "print(f\"Acurácia no conjunto de treino: {train_accuracy:.4f}\")\n",
    "\n",
    "# Calculando a probabilidade de inadimplência para ROC-AUC\n",
    "y_prob = model.predict_proba(X_numeric_scaled)[:, 1]\n",
    "\n",
    "# Calculando o ROC-AUC\n",
    "roc_auc = roc_auc_score(y, y_prob)\n",
    "print(f\"ROC-AUC: {roc_auc:.4f}\")\n",
    "\n",
    "# Gerando a Curva ROC\n",
    "fpr, tpr, thresholds = roc_curve(y, y_prob)\n",
    "\n",
    "# Plotando a Curva ROC\n",
    "plt.figure(figsize=(8, 6))\n",
    "plt.plot(fpr, tpr, color='b', label=f'Curva ROC (AUC = {roc_auc:.4f})')\n",
    "plt.plot([0, 1], [0, 1], color='gray', linestyle='--')  # Linha diagonal\n",
    "plt.xlabel('Taxa de Falsos Positivos (FPR)')\n",
    "plt.ylabel('Taxa de Verdadeiros Positivos (TPR)')\n",
    "plt.title('Curva ROC')\n",
    "plt.legend(loc='lower right')\n",
    "plt.show()\n"
   ]
  },
  {
   "cell_type": "markdown",
   "id": "fd3758ea",
   "metadata": {},
   "source": [
    "#### Regressão Logística"
   ]
  },
  {
   "cell_type": "markdown",
   "id": "790a05c1",
   "metadata": {},
   "source": [
    "#### Random Forest"
   ]
  },
  {
   "cell_type": "code",
   "execution_count": 83,
   "id": "ddadf206",
   "metadata": {},
   "outputs": [
    {
     "name": "stdout",
     "output_type": "stream",
     "text": [
      "Acurácia média do Random Forest: 0.6796\n"
     ]
    }
   ],
   "source": [
    "from sklearn.ensemble import RandomForestClassifier\n",
    "\n",
    "# Instanciando o modelo\n",
    "rf_model = RandomForestClassifier(random_state=42)\n",
    "\n",
    "# Realizando a validação cruzada com o Random Forest\n",
    "rf_scores = cross_val_score(rf_model, X_numeric_scaled, y, cv=5, scoring='accuracy')\n",
    "\n",
    "# Exibindo os resultados\n",
    "print(f\"Acurácia média do Random Forest: {np.mean(rf_scores):.4f}\")\n"
   ]
  },
  {
   "cell_type": "markdown",
   "id": "4e0411c5",
   "metadata": {},
   "source": [
    "#### XGBoost"
   ]
  },
  {
   "cell_type": "code",
   "execution_count": null,
   "id": "c73565af",
   "metadata": {},
   "outputs": [],
   "source": [
    "%pip install xgboost"
   ]
  },
  {
   "cell_type": "markdown",
   "id": "c1e28dba",
   "metadata": {},
   "source": [
    "### XGBoost no conjunto de treino"
   ]
  },
  {
   "cell_type": "code",
   "execution_count": 106,
   "id": "a59128c1",
   "metadata": {},
   "outputs": [
    {
     "name": "stdout",
     "output_type": "stream",
     "text": [
      "Acurácia no conjunto de treino (XGBoost): 0.8039\n",
      "ROC-AUC (XGBoost): 0.8856\n"
     ]
    },
    {
     "name": "stderr",
     "output_type": "stream",
     "text": [
      "c:\\Users\\PROFESSOR\\AppData\\Local\\Programs\\Python\\Python313\\Lib\\site-packages\\xgboost\\core.py:158: UserWarning: [23:47:34] WARNING: C:\\buildkite-agent\\builds\\buildkite-windows-cpu-autoscaling-group-i-08cbc0333d8d4aae1-1\\xgboost\\xgboost-ci-windows\\src\\learner.cc:740: \n",
      "Parameters: { \"use_label_encoder\" } are not used.\n",
      "\n",
      "  warnings.warn(smsg, UserWarning)\n"
     ]
    },
    {
     "data": {
      "image/png": "[encoded data removed]",
      "text/plain": [
       "<Figure size 800x600 with 1 Axes>"
      ]
     },
     "metadata": {},
     "output_type": "display_data"
    }
   ],
   "source": [
    "import xgboost as xgb\n",
    "from sklearn.metrics import accuracy_score, roc_auc_score, roc_curve\n",
    "import matplotlib.pyplot as plt\n",
    "\n",
    "# Instanciando o modelo XGBoost\n",
    "xgb_model = xgb.XGBClassifier(eval_metric='logloss', use_label_encoder=False, random_state=42)\n",
    "\n",
    "# Treinando o modelo\n",
    "xgb_model.fit(X_numeric_scaled, y)\n",
    "\n",
    "# Previsões no conjunto de treino\n",
    "y_pred = xgb_model.predict(X_numeric_scaled)\n",
    "y_prob = xgb_model.predict_proba(X_numeric_scaled)[:, 1]\n",
    "\n",
    "# Calculando a acurácia\n",
    "train_accuracy = accuracy_score(y, y_pred)\n",
    "print(f\"Acurácia no conjunto de treino (XGBoost): {train_accuracy:.4f}\")\n",
    "\n",
    "# Calculando o ROC-AUC\n",
    "roc_auc = roc_auc_score(y, y_prob)\n",
    "print(f\"ROC-AUC (XGBoost): {roc_auc:.4f}\")\n",
    "\n",
    "# Gerando a Curva ROC\n",
    "fpr, tpr, thresholds = roc_curve(y, y_prob)\n",
    "\n",
    "# Plotando a Curva ROC\n",
    "plt.figure(figsize=(8, 6))\n",
    "plt.plot(fpr, tpr, color='b', label=f'Curva ROC (AUC = {roc_auc:.4f})')\n",
    "plt.plot([0, 1], [0, 1], color='gray', linestyle='--')  # Linha diagonal\n",
    "plt.xlabel('Taxa de Falsos Positivos (FPR)')\n",
    "plt.ylabel('Taxa de Verdadeiros Positivos (TPR)')\n",
    "plt.title('Curva ROC (XGBoost)')\n",
    "plt.legend(loc='lower right')\n",
    "plt.show()\n"
   ]
  },
  {
   "cell_type": "markdown",
   "id": "45998920",
   "metadata": {},
   "source": [
    "### Validando no conjunto de testes"
   ]
  },
  {
   "cell_type": "code",
   "execution_count": 108,
   "id": "4060ffe0",
   "metadata": {},
   "outputs": [
    {
     "name": "stderr",
     "output_type": "stream",
     "text": [
      "c:\\Users\\PROFESSOR\\AppData\\Local\\Programs\\Python\\Python313\\Lib\\site-packages\\sklearn\\utils\\extmath.py:1101: RuntimeWarning: invalid value encountered in divide\n",
      "  updated_mean = (last_sum + new_sum) / updated_sample_count\n",
      "c:\\Users\\PROFESSOR\\AppData\\Local\\Programs\\Python\\Python313\\Lib\\site-packages\\sklearn\\utils\\extmath.py:1106: RuntimeWarning: invalid value encountered in divide\n",
      "  T = new_sum / new_sample_count\n",
      "c:\\Users\\PROFESSOR\\AppData\\Local\\Programs\\Python\\Python313\\Lib\\site-packages\\sklearn\\utils\\extmath.py:1126: RuntimeWarning: invalid value encountered in divide\n",
      "  new_unnormalized_variance -= correction**2 / new_sample_count\n",
      "c:\\Users\\PROFESSOR\\AppData\\Local\\Programs\\Python\\Python313\\Lib\\site-packages\\xgboost\\core.py:158: UserWarning: [23:49:11] WARNING: C:\\buildkite-agent\\builds\\buildkite-windows-cpu-autoscaling-group-i-08cbc0333d8d4aae1-1\\xgboost\\xgboost-ci-windows\\src\\learner.cc:740: \n",
      "Parameters: { \"use_label_encoder\" } are not used.\n",
      "\n",
      "  warnings.warn(smsg, UserWarning)\n"
     ]
    },
    {
     "name": "stdout",
     "output_type": "stream",
     "text": [
      "Acurácia no conjunto de treino (XGBoost): 0.7959\n",
      "ROC-AUC (XGBoost) no conjunto de treino: 0.8809\n"
     ]
    },
    {
     "data": {
      "image/png": "[encoded data removed]",
      "text/plain": [
       "<Figure size 800x600 with 1 Axes>"
      ]
     },
     "metadata": {},
     "output_type": "display_data"
    },
    {
     "name": "stdout",
     "output_type": "stream",
     "text": [
      "Acurácia no conjunto de teste (XGBoost): 0.7376\n",
      "ROC-AUC (XGBoost) no conjunto de teste: 0.8470\n"
     ]
    },
    {
     "data": {
      "image/png": "[encoded data removed]",
      "text/plain": [
       "<Figure size 800x600 with 1 Axes>"
      ]
     },
     "metadata": {},
     "output_type": "display_data"
    }
   ],
   "source": [
    "from sklearn.compose import ColumnTransformer\n",
    "from sklearn.preprocessing import OneHotEncoder, StandardScaler\n",
    "from sklearn.pipeline import Pipeline\n",
    "from sklearn.model_selection import train_test_split\n",
    "from sklearn.metrics import accuracy_score, roc_auc_score, roc_curve\n",
    "import xgboost as xgb\n",
    "import matplotlib.pyplot as plt\n",
    "\n",
    "# Suponha que X e y já estejam definidos como seu conjunto de dados de treino e teste\n",
    "\n",
    "# Definindo as colunas categóricas\n",
    "categorical_cols = X.select_dtypes(include=['object']).columns\n",
    "\n",
    "# Definindo as colunas numéricas\n",
    "numeric_cols = X.select_dtypes(exclude=['object']).columns\n",
    "\n",
    "# Criando um pré-processador\n",
    "preprocessor = ColumnTransformer(\n",
    "    transformers=[\n",
    "        ('num', StandardScaler(), numeric_cols),\n",
    "        ('cat', OneHotEncoder(handle_unknown='ignore'), categorical_cols)\n",
    "    ]\n",
    ")\n",
    "\n",
    "# Criando o pipeline com o pré-processador e o modelo XGBoost\n",
    "pipeline = Pipeline(steps=[\n",
    "    ('preprocessor', preprocessor),\n",
    "    ('classifier', xgb.XGBClassifier(eval_metric='logloss', use_label_encoder=False, random_state=42))\n",
    "])\n",
    "\n",
    "# Treinando o modelo\n",
    "pipeline.fit(X, y)\n",
    "\n",
    "# Previsões no conjunto de treino\n",
    "y_pred_train = pipeline.predict(X)\n",
    "y_prob_train = pipeline.predict_proba(X)[:, 1]\n",
    "\n",
    "# Calculando a acurácia no conjunto de treino\n",
    "train_accuracy = accuracy_score(y, y_pred_train)\n",
    "print(f\"Acurácia no conjunto de treino (XGBoost): {train_accuracy:.4f}\")\n",
    "\n",
    "# Calculando o ROC-AUC no conjunto de treino\n",
    "roc_auc_train = roc_auc_score(y, y_prob_train)\n",
    "print(f\"ROC-AUC (XGBoost) no conjunto de treino: {roc_auc_train:.4f}\")\n",
    "\n",
    "# Gerando a Curva ROC no conjunto de treino\n",
    "fpr_train, tpr_train, _ = roc_curve(y, y_prob_train)\n",
    "\n",
    "# Plotando a Curva ROC no conjunto de treino\n",
    "plt.figure(figsize=(8, 6))\n",
    "plt.plot(fpr_train, tpr_train, color='b', label=f'Curva ROC (AUC = {roc_auc_train:.4f})')\n",
    "plt.plot([0, 1], [0, 1], color='gray', linestyle='--')  # Linha diagonal\n",
    "plt.xlabel('Taxa de Falsos Positivos (FPR)')\n",
    "plt.ylabel('Taxa de Verdadeiros Positivos (TPR)')\n",
    "plt.title('Curva ROC (XGBoost) - Conjunto de Treino')\n",
    "plt.legend(loc='lower right')\n",
    "plt.show()\n",
    "\n",
    "# Validando no conjunto de teste\n",
    "y_pred_test = pipeline.predict(X_test)  # Previsões para o conjunto de teste\n",
    "y_prob_test = pipeline.predict_proba(X_test)[:, 1]  # Probabilidade para a curva ROC\n",
    "\n",
    "# Calculando a acurácia no conjunto de teste\n",
    "test_accuracy = accuracy_score(y_test, y_pred_test)\n",
    "print(f\"Acurácia no conjunto de teste (XGBoost): {test_accuracy:.4f}\")\n",
    "\n",
    "# Calculando o ROC-AUC no conjunto de teste\n",
    "roc_auc_test = roc_auc_score(y_test, y_prob_test)\n",
    "print(f\"ROC-AUC (XGBoost) no conjunto de teste: {roc_auc_test:.4f}\")\n",
    "\n",
    "# Gerando a Curva ROC no conjunto de teste\n",
    "fpr_test, tpr_test, _ = roc_curve(y_test, y_prob_test)\n",
    "\n",
    "# Plotando a Curva ROC no conjunto de teste\n",
    "plt.figure(figsize=(8, 6))\n",
    "plt.plot(fpr_test, tpr_test, color='b', label=f'Curva ROC (AUC = {roc_auc_test:.4f})')\n",
    "plt.plot([0, 1], [0, 1], color='gray', linestyle='--')  # Linha diagonal\n",
    "plt.xlabel('Taxa de Falsos Positivos (FPR)')\n",
    "plt.ylabel('Taxa de Verdadeiros Positivos (TPR)')\n",
    "plt.title('Curva ROC (XGBoost) - Conjunto de Teste')\n",
    "plt.legend(loc='lower right')\n",
    "plt.show()\n"
   ]
  },
  {
   "cell_type": "markdown",
   "id": "f7bcc808",
   "metadata": {},
   "source": [
    "##"
   ]
  }
 ],
 "metadata": {
  "kernelspec": {
   "display_name": "Python 3",
   "language": "python",
   "name": "python3"
  },
  "language_info": {
   "codemirror_mode": {
    "name": "ipython",
    "version": 3
   },
   "file_extension": ".py",
   "mimetype": "text/x-python",
   "name": "python",
   "nbconvert_exporter": "python",
   "pygments_lexer": "ipython3",
   "version": "3.13.1"
  }
 },
 "nbformat": 4,
 "nbformat_minor": 5
}
