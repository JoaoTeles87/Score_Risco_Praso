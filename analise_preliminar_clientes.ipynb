{
 "cells": [
  {
   "cell_type": "markdown",
   "id": "058bfa0e",
   "metadata": {},
   "source": [
    "# Score de Risco \n",
    "\n",
    "### Criado por João Teles e Rodrigo Sales para discutir os resultados analíticos de como certo modelos de Machine Learning podem se comportar nos dados fonecidos pela empresa Praso."
   ]
  },
  {
   "cell_type": "markdown",
   "id": "8cc07728",
   "metadata": {},
   "source": [
    "#### Importação de frameworks para análise preliminar dos dados."
   ]
  },
  {
   "cell_type": "code",
   "execution_count": 1,
   "id": "0e48b5f0",
   "metadata": {},
   "outputs": [],
   "source": [
    "\n",
    "import pandas as pd\n"
   ]
  },
  {
   "cell_type": "markdown",
   "id": "45d635e3",
   "metadata": {},
   "source": [
    "##### Primeiras impressões com tipo de dados, checar os valores nulos e aplicar estatística padrão"
   ]
  },
  {
   "cell_type": "code",
   "execution_count": 4,
   "id": "6828dbe2",
   "metadata": {},
   "outputs": [
    {
     "name": "stdout",
     "output_type": "stream",
     "text": [
      "(12458, 20)\n",
      "   uf    municipio        segmento_cliente                natureza_juridica  \\\n",
      "0  PE       RECIFE  Restaurante Brasileiro  213-5 - Empresário (Individual)   \n",
      "1  PE   CHA GRANDE          Pizza & Massas  213-5 - Empresário (Individual)   \n",
      "2  PB  JOAO PESSOA     Doces & Confeitaria  213-5 - Empresário (Individual)   \n",
      "3  CE     CASCAVEL      Lanches & Salgados  213-5 - Empresário (Individual)   \n",
      "4  PE       RECIFE     Mercearia & Mercado  213-5 - Empresário (Individual)   \n",
      "\n",
      "  fonte_cliente cnae_codigo  \\\n",
      "0       Fonte 5  56.11-2-01   \n",
      "1       Fonte 2  56.11-2-01   \n",
      "2       Fonte 2  10.93-7-01   \n",
      "3       Fonte 2  56.20-1-04   \n",
      "4       Fonte 2  56.11-2-03   \n",
      "\n",
      "                                      cnae_descricao capital_social  \\\n",
      "0                           Restaurantes e similares  (8000, 10000]   \n",
      "1                           Restaurantes e similares   (3000, 5000]   \n",
      "2  Fabricação de produtos derivados do cacau e de...    (200, 1000]   \n",
      "3  Fornecimento de alimentos preparados preponder...   (1000, 1500]   \n",
      "4    Lanchonetes, casas de chá, de sucos e similares    (200, 1000]   \n",
      "\n",
      "     idade_cnpj  serasa_contagem_negativacoes  serasa_contagem_protestos  \\\n",
      "0     (50, 100]                             0                          0   \n",
      "1    (750, 900]                             0                          0   \n",
      "2    (150, 250]                             0                          0   \n",
      "3    (100, 150]                             0                          0   \n",
      "4  (1600, 2000]                             1                          0   \n",
      "\n",
      "   serasa_idade_divida_mais_recente      serasa_credores  \\\n",
      "0                               NaN                  NaN   \n",
      "1                               NaN                  NaN   \n",
      "2                               NaN                  NaN   \n",
      "3                               NaN                  NaN   \n",
      "4                              47.0  Bancos e Financeiro   \n",
      "\n",
      "   serasa_socio_tem_negativacao ifood_contagem_avaliacoes ifood_faixa_preco  \\\n",
      "0                             0                       NaN               NaN   \n",
      "1                             1                       NaN               NaN   \n",
      "2                             1                       NaN               NaN   \n",
      "3                             0                       NaN               NaN   \n",
      "4                             0                       NaN               NaN   \n",
      "\n",
      "  google_maps_avaliacao google_maps_contagem_avaliacoes  \\\n",
      "0                   NaN                             NaN   \n",
      "1                   NaN                             NaN   \n",
      "2                   NaN                             NaN   \n",
      "3                   NaN                             NaN   \n",
      "4                   NaN                             NaN   \n",
      "\n",
      "   google_maps_tem_website  inadimplente  \n",
      "0                      NaN             1  \n",
      "1                      NaN             1  \n",
      "2                      NaN             0  \n",
      "3                      NaN             1  \n",
      "4                      NaN             0  \n"
     ]
    }
   ],
   "source": [
    "dados_clientes = pd.read_csv('amostra_praso.csv', sep=',')\n",
    "\n",
    "# Exibe a quantidade de linhas e colunas do DataFrame\n",
    "print(dados_clientes.shape)\n",
    "\n",
    "# Exibe as primeiras linhas do DataFrame\n",
    "print(dados_clientes.head())\n"
   ]
  },
  {
   "cell_type": "code",
   "execution_count": 5,
   "id": "3a5075d9",
   "metadata": {},
   "outputs": [
    {
     "name": "stdout",
     "output_type": "stream",
     "text": [
      "<class 'pandas.core.frame.DataFrame'>\n",
      "RangeIndex: 12458 entries, 0 to 12457\n",
      "Data columns (total 20 columns):\n",
      " #   Column                            Non-Null Count  Dtype  \n",
      "---  ------                            --------------  -----  \n",
      " 0   uf                                12458 non-null  object \n",
      " 1   municipio                         12458 non-null  object \n",
      " 2   segmento_cliente                  12458 non-null  object \n",
      " 3   natureza_juridica                 12458 non-null  object \n",
      " 4   fonte_cliente                     12458 non-null  object \n",
      " 5   cnae_codigo                       12458 non-null  object \n",
      " 6   cnae_descricao                    12458 non-null  object \n",
      " 7   capital_social                    12458 non-null  object \n",
      " 8   idade_cnpj                        12458 non-null  object \n",
      " 9   serasa_contagem_negativacoes      12458 non-null  int64  \n",
      " 10  serasa_contagem_protestos         12458 non-null  int64  \n",
      " 11  serasa_idade_divida_mais_recente  2356 non-null   float64\n",
      " 12  serasa_credores                   1975 non-null   object \n",
      " 13  serasa_socio_tem_negativacao      12458 non-null  int64  \n",
      " 14  ifood_contagem_avaliacoes         480 non-null    object \n",
      " 15  ifood_faixa_preco                 854 non-null    object \n",
      " 16  google_maps_avaliacao             865 non-null    object \n",
      " 17  google_maps_contagem_avaliacoes   1038 non-null   object \n",
      " 18  google_maps_tem_website           1038 non-null   float64\n",
      " 19  inadimplente                      12458 non-null  int64  \n",
      "dtypes: float64(2), int64(4), object(14)\n",
      "memory usage: 1.9+ MB\n"
     ]
    },
    {
     "data": {
      "text/plain": [
       "uf                                      0\n",
       "municipio                               0\n",
       "segmento_cliente                        0\n",
       "natureza_juridica                       0\n",
       "fonte_cliente                           0\n",
       "cnae_codigo                             0\n",
       "cnae_descricao                          0\n",
       "capital_social                          0\n",
       "idade_cnpj                              0\n",
       "serasa_contagem_negativacoes            0\n",
       "serasa_contagem_protestos               0\n",
       "serasa_idade_divida_mais_recente    10102\n",
       "serasa_credores                     10483\n",
       "serasa_socio_tem_negativacao            0\n",
       "ifood_contagem_avaliacoes           11978\n",
       "ifood_faixa_preco                   11604\n",
       "google_maps_avaliacao               11593\n",
       "google_maps_contagem_avaliacoes     11420\n",
       "google_maps_tem_website             11420\n",
       "inadimplente                            0\n",
       "dtype: int64"
      ]
     },
     "execution_count": 5,
     "metadata": {},
     "output_type": "execute_result"
    }
   ],
   "source": [
    "# Informações gerais\n",
    "dados_clientes.info()\n",
    "\n",
    "# Estatísticas descritivas\n",
    "dados_clientes.describe()\n",
    "\n",
    "# Verificando valores nulos\n",
    "dados_clientes.isnull().sum()\n"
   ]
  },
  {
   "cell_type": "markdown",
   "id": "b08b6d67",
   "metadata": {},
   "source": [
    "##### Corrigir tipo de dados de capital_social e idade_cnpj para numérico."
   ]
  },
  {
   "cell_type": "code",
   "execution_count": 17,
   "id": "7d5465fa",
   "metadata": {},
   "outputs": [
    {
     "name": "stdout",
     "output_type": "stream",
     "text": [
      "uf                                   object\n",
      "municipio                            object\n",
      "segmento_cliente                     object\n",
      "natureza_juridica                    object\n",
      "fonte_cliente                        object\n",
      "cnae_codigo                          object\n",
      "cnae_descricao                       object\n",
      "capital_social                      float64\n",
      "idade_cnpj                          float64\n",
      "serasa_contagem_negativacoes          int64\n",
      "serasa_contagem_protestos             int64\n",
      "serasa_idade_divida_mais_recente    float64\n",
      "serasa_credores                      object\n",
      "serasa_socio_tem_negativacao          int64\n",
      "ifood_contagem_avaliacoes            object\n",
      "ifood_faixa_preco                    object\n",
      "google_maps_avaliacao                object\n",
      "google_maps_contagem_avaliacoes      object\n",
      "google_maps_tem_website             float64\n",
      "inadimplente                          int64\n",
      "tem_divida                            int64\n",
      "tem_ifood_avaliacoes                  int64\n",
      "dtype: object\n"
     ]
    }
   ],
   "source": [
    "# Garantir que a coluna é string antes de substituir caracteres\n",
    "dados_clientes[\"capital_social\"] = dados_clientes[\"capital_social\"].astype(str).str.replace(r\"\\D\", \"\", regex=True).astype(float)\n",
    "dados_clientes[\"idade_cnpj\"] = dados_clientes[\"idade_cnpj\"].astype(str).str.replace(r\"\\D\", \"\", regex=True).astype(float)\n",
    "\n",
    "print(dados_clientes.dtypes)  # Verifique os tipos de dados das colunas\n",
    "\n"
   ]
  },
  {
   "cell_type": "markdown",
   "id": "21cd9a62",
   "metadata": {},
   "source": []
  },
  {
   "cell_type": "markdown",
   "id": "801f02bc",
   "metadata": {},
   "source": [
    "##### Como pode-se resolver o problema de dados nulos em diversas colunas?\n",
    "##### Média/Mediana, caso os valores sejam distribuídos normalmente.\n",
    "##### Zero, se fizer sentido como um dado ausente real."
   ]
  },
  {
   "cell_type": "code",
   "execution_count": 18,
   "id": "3f8df34f",
   "metadata": {},
   "outputs": [],
   "source": [
    "dados_clientes[\"serasa_idade_divida_mais_recente\"] = dados_clientes[\"serasa_idade_divida_mais_recente\"].fillna(dados_clientes[\"serasa_idade_divida_mais_recente\"].median())\n"
   ]
  },
  {
   "cell_type": "markdown",
   "id": "70759dd1",
   "metadata": {},
   "source": [
    "##### Para Variáveis Categóricas\n",
    "##### Podemos preencher valores nulos com \"Desconhecido\" ou \"Não Informado\"."
   ]
  },
  {
   "cell_type": "code",
   "execution_count": null,
   "id": "76b923a8",
   "metadata": {},
   "outputs": [],
   "source": []
  },
  {
   "cell_type": "code",
   "execution_count": 19,
   "id": "bb51abee",
   "metadata": {},
   "outputs": [],
   "source": [
    "dados_clientes[\"ifood_faixa_preco\"] = dados_clientes[\"ifood_faixa_preco\"].fillna(\"Não Informado\")\n",
    "dados_clientes[\"google_maps_avaliacao\"] = dados_clientes[\"google_maps_avaliacao\"].fillna(0)\n",
    "dados_clientes[\"google_maps_tem_website\"] = dados_clientes[\"google_maps_tem_website\"].fillna(0)\n"
   ]
  },
  {
   "cell_type": "markdown",
   "id": "407ab0fb",
   "metadata": {},
   "source": [
    "##### Criar Indicadores de Nulos \n",
    "##### Criar uma feature binária para indicar ausência de informações."
   ]
  },
  {
   "cell_type": "code",
   "execution_count": 11,
   "id": "690c594f",
   "metadata": {},
   "outputs": [],
   "source": [
    "dados_clientes[\"tem_divida\"] = dados_clientes[\"serasa_idade_divida_mais_recente\"].notnull().astype(int)\n",
    "dados_clientes[\"tem_ifood_avaliacoes\"] = dados_clientes[\"ifood_contagem_avaliacoes\"].notnull().astype(int)\n"
   ]
  },
  {
   "cell_type": "markdown",
   "id": "6b12311e",
   "metadata": {},
   "source": [
    "### Feature engineering\n",
    "\n",
    "##### Agrupar o CNAE como sugerido, ..."
   ]
  },
  {
   "cell_type": "code",
   "execution_count": 20,
   "id": "f6cb5291",
   "metadata": {},
   "outputs": [],
   "source": [
    "dados_clientes[\"cnae_divisao\"] = dados_clientes[\"cnae_codigo\"].astype(str).str[:2]\n"
   ]
  },
  {
   "cell_type": "markdown",
   "id": "91915907",
   "metadata": {},
   "source": [
    "#### Label Enconding para as variáveis com poucas categorias\n"
   ]
  },
  {
   "cell_type": "code",
   "execution_count": null,
   "id": "f969113a",
   "metadata": {},
   "outputs": [],
   "source": []
  },
  {
   "cell_type": "markdown",
   "id": "20d68667",
   "metadata": {},
   "source": [
    "#### One Hot Enconding para colunas com muitas categorias"
   ]
  },
  {
   "cell_type": "code",
   "execution_count": 21,
   "metadata": {},
   "outputs": [],
   "source": [
    "dados_clientes = pd.get_dummies(dados_clientes, columns=[\"cnae_divisao\"], drop_first=True)\n"
   ]
  }
 ],
 "metadata": {
  "kernelspec": {
   "display_name": "env",
   "language": "python",
   "name": "python3"
  },
  "language_info": {
   "codemirror_mode": {
    "name": "ipython",
    "version": 3
   },
   "file_extension": ".py",
   "mimetype": "text/x-python",
   "name": "python",
   "nbconvert_exporter": "python",
   "pygments_lexer": "ipython3",
   "version": "3.13.0"
  }
 },
 "nbformat": 4,
 "nbformat_minor": 5
}
